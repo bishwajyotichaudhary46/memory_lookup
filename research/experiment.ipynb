{
 "cells": [
  {
   "cell_type": "code",
   "execution_count": 1,
   "id": "9374fcff",
   "metadata": {},
   "outputs": [
    {
     "name": "stderr",
     "output_type": "stream",
     "text": [
      "d:\\Unversity\\KeyValueMemory\\kv_env\\lib\\site-packages\\tqdm\\auto.py:21: TqdmWarning: IProgress not found. Please update jupyter and ipywidgets. See https://ipywidgets.readthedocs.io/en/stable/user_install.html\n",
      "  from .autonotebook import tqdm as notebook_tqdm\n"
     ]
    }
   ],
   "source": [
    "from datasets import load_dataset\n",
    "import pandas as pd\n",
    "import torch.nn.functional as F\n",
    "from torch.nn.utils.rnn import pad_sequence\n",
    "from torch import Tensor\n",
    "from transformers import AutoTokenizer, AutoModel\n",
    "from torch.utils.data import DataLoader, Dataset \n",
    "import torch\n",
    "import torch.nn as nn\n",
    "from tqdm import tqdm\n",
    "import csv\n",
    "import numpy as np\n",
    "import matplotlib.pyplot as plt"
   ]
  },
  {
   "cell_type": "code",
   "execution_count": 2,
   "id": "a54690a6",
   "metadata": {},
   "outputs": [],
   "source": [
    "data = load_dataset(\"antareepdey/Patient_doctor_chat\")\n",
    "datasets = [i['Text'] for i in data['train']]\n",
    "patient_query = []\n",
    "doctor_response = []\n",
    "patient_query_val = []\n",
    "doctor_response_val = []\n",
    "\n",
    "for i in range(1000):\n",
    "    inputs, outputs = datasets[i].split(\"###Output:\")\n",
    "    patient_query.append(inputs.replace(\"###Input:\",\"\"))\n",
    "    doctor_response.append(outputs)\n",
    "for i in range(1000,1200):\n",
    "    inputs, outputs = datasets[i].split(\"###Output:\")\n",
    "    patient_query_val.append(inputs.replace(\"###Input:\",\"\"))\n",
    "    doctor_response_val.append(outputs)\n",
    "\n",
    "data = {\"Patient query\": patient_query, \"Doctor response\": doctor_response}\n",
    "val_data = {\"Patient query\": patient_query_val, \"Doctor response\": doctor_response_val}\n",
    "df = pd.DataFrame(data=data)\n",
    "val_df = pd.DataFrame(data=val_data)\n",
    "def preprocess_data(text):\n",
    "    # preprocess\n",
    "    text = text.lower()\n",
    "    text = text.replace('?','')\n",
    "    text = text.replace(\"'\",\"\")\n",
    "    text = text.replace(\"1)\",\" \")\n",
    "    text = text.replace(\"2)\",\" \")\n",
    "    text = text.replace(\"3)\",\" \")\n",
    "    text = text.replace(\"4)\",\" \")\n",
    "    text = text.replace(\".\",\" \")\n",
    "    text = text.strip()\n",
    "    return text\n",
    "\n",
    "df['Patient query'] = df['Patient query'].apply(preprocess_data)\n",
    "df['Doctor response'] = df['Doctor response'].apply(preprocess_data)\n",
    "\n",
    "val_df['Patient query'] = val_df['Patient query'].apply(preprocess_data)\n",
    "val_df['Doctor response'] = val_df['Doctor response'].apply(preprocess_data)\n",
    "\n",
    "tokenizer = AutoTokenizer.from_pretrained('Qwen/Qwen3-Embedding-0.6B', padding_side='left')\n",
    "embed_model = AutoModel.from_pretrained('Qwen/Qwen3-Embedding-0.6B')\n"
   ]
  },
  {
   "cell_type": "markdown",
   "id": "ac4cbca8",
   "metadata": {},
   "source": [
    "# make own tokens "
   ]
  },
  {
   "cell_type": "code",
   "execution_count": 3,
   "id": "e08413cc",
   "metadata": {},
   "outputs": [],
   "source": [
    "all_text_data = patient_query + doctor_response + patient_query_val + doctor_response_val"
   ]
  },
  {
   "cell_type": "code",
   "execution_count": 4,
   "id": "087461c5",
   "metadata": {},
   "outputs": [
    {
     "data": {
      "text/plain": [
       "2400"
      ]
     },
     "execution_count": 4,
     "metadata": {},
     "output_type": "execute_result"
    }
   ],
   "source": [
    "len(all_text_data)"
   ]
  },
  {
   "cell_type": "code",
   "execution_count": 5,
   "id": "41625af7",
   "metadata": {},
   "outputs": [],
   "source": [
    "used_token_ids = set()\n",
    "for target_text in all_text_data:\n",
    "    tokens = tokenizer.encode(target_text, add_special_tokens=False)\n",
    "    used_token_ids.update(tokens)"
   ]
  },
  {
   "cell_type": "code",
   "execution_count": 6,
   "id": "34e9e401",
   "metadata": {},
   "outputs": [
    {
     "data": {
      "text/plain": [
       "{0,\n",
       " 1,\n",
       " 4,\n",
       " 65541,\n",
       " 6,\n",
       " 7,\n",
       " 8,\n",
       " 9,\n",
       " 10,\n",
       " 11,\n",
       " 12,\n",
       " 13,\n",
       " 14,\n",
       " 15,\n",
       " 16,\n",
       " 17,\n",
       " 18,\n",
       " 19,\n",
       " 20,\n",
       " 21,\n",
       " 22,\n",
       " 23,\n",
       " 24,\n",
       " 25,\n",
       " 26,\n",
       " 98328,\n",
       " 30,\n",
       " 65566,\n",
       " 32,\n",
       " 33,\n",
       " 34,\n",
       " 35,\n",
       " 36,\n",
       " 37,\n",
       " 38,\n",
       " 39,\n",
       " 40,\n",
       " 32803,\n",
       " 42,\n",
       " 43,\n",
       " 44,\n",
       " 45,\n",
       " 46,\n",
       " 47,\n",
       " 32816,\n",
       " 49,\n",
       " 50,\n",
       " 51,\n",
       " 52,\n",
       " 53,\n",
       " 54,\n",
       " 55,\n",
       " 32824,\n",
       " 57,\n",
       " 32818,\n",
       " 59,\n",
       " 56,\n",
       " 61,\n",
       " 64,\n",
       " 65,\n",
       " 66,\n",
       " 67,\n",
       " 68,\n",
       " 69,\n",
       " 70,\n",
       " 71,\n",
       " 72,\n",
       " 73,\n",
       " 74,\n",
       " 75,\n",
       " 76,\n",
       " 77,\n",
       " 78,\n",
       " 79,\n",
       " 98378,\n",
       " 81,\n",
       " 82,\n",
       " 83,\n",
       " 84,\n",
       " 85,\n",
       " 86,\n",
       " 87,\n",
       " 88,\n",
       " 89,\n",
       " 32853,\n",
       " 32861,\n",
       " 32864,\n",
       " 32869,\n",
       " 65640,\n",
       " 98412,\n",
       " 65646,\n",
       " 65659,\n",
       " 32894,\n",
       " 65670,\n",
       " 32903,\n",
       " 32907,\n",
       " 65687,\n",
       " 65696,\n",
       " 98467,\n",
       " 32932,\n",
       " 98478,\n",
       " 32949,\n",
       " 98494,\n",
       " 32967,\n",
       " 32970,\n",
       " 65739,\n",
       " 32972,\n",
       " 41,\n",
       " 32983,\n",
       " 220,\n",
       " 32988,\n",
       " 32992,\n",
       " 98541,\n",
       " 98547,\n",
       " 258,\n",
       " 259,\n",
       " 261,\n",
       " 263,\n",
       " 264,\n",
       " 265,\n",
       " 266,\n",
       " 267,\n",
       " 268,\n",
       " 269,\n",
       " 270,\n",
       " 65806,\n",
       " 272,\n",
       " 273,\n",
       " 274,\n",
       " 275,\n",
       " 276,\n",
       " 277,\n",
       " 278,\n",
       " 279,\n",
       " 33041,\n",
       " 281,\n",
       " 282,\n",
       " 33045,\n",
       " 283,\n",
       " 285,\n",
       " 33053,\n",
       " 287,\n",
       " 288,\n",
       " 289,\n",
       " 290,\n",
       " 291,\n",
       " 292,\n",
       " 293,\n",
       " 294,\n",
       " 295,\n",
       " 296,\n",
       " 297,\n",
       " 33060,\n",
       " 299,\n",
       " 300,\n",
       " 301,\n",
       " 302,\n",
       " 303,\n",
       " 304,\n",
       " 305,\n",
       " 306,\n",
       " 307,\n",
       " 308,\n",
       " 309,\n",
       " 311,\n",
       " 312,\n",
       " 315,\n",
       " 316,\n",
       " 318,\n",
       " 320,\n",
       " 321,\n",
       " 323,\n",
       " 324,\n",
       " 325,\n",
       " 326,\n",
       " 327,\n",
       " 328,\n",
       " 329,\n",
       " 330,\n",
       " 331,\n",
       " 332,\n",
       " 333,\n",
       " 98638,\n",
       " 336,\n",
       " 337,\n",
       " 339,\n",
       " 342,\n",
       " 343,\n",
       " 344,\n",
       " 98648,\n",
       " 346,\n",
       " 347,\n",
       " 348,\n",
       " 349,\n",
       " 350,\n",
       " 351,\n",
       " 352,\n",
       " 353,\n",
       " 354,\n",
       " 355,\n",
       " 356,\n",
       " 357,\n",
       " 358,\n",
       " 359,\n",
       " 360,\n",
       " 361,\n",
       " 362,\n",
       " 363,\n",
       " 33131,\n",
       " 365,\n",
       " 65895,\n",
       " 367,\n",
       " 33127,\n",
       " 369,\n",
       " 370,\n",
       " 371,\n",
       " 372,\n",
       " 374,\n",
       " 375,\n",
       " 376,\n",
       " 377,\n",
       " 379,\n",
       " 380,\n",
       " 383,\n",
       " 384,\n",
       " 385,\n",
       " 386,\n",
       " 387,\n",
       " 388,\n",
       " 389,\n",
       " 33154,\n",
       " 391,\n",
       " 392,\n",
       " 393,\n",
       " 65930,\n",
       " 33163,\n",
       " 396,\n",
       " 390,\n",
       " 398,\n",
       " 98697,\n",
       " 33168,\n",
       " 400,\n",
       " 402,\n",
       " 404,\n",
       " 406,\n",
       " 407,\n",
       " 408,\n",
       " 409,\n",
       " 410,\n",
       " 411,\n",
       " 413,\n",
       " 415,\n",
       " 416,\n",
       " 417,\n",
       " 419,\n",
       " 420,\n",
       " 421,\n",
       " 422,\n",
       " 423,\n",
       " 424,\n",
       " 425,\n",
       " 426,\n",
       " 427,\n",
       " 429,\n",
       " 431,\n",
       " 432,\n",
       " 433,\n",
       " 434,\n",
       " 435,\n",
       " 436,\n",
       " 437,\n",
       " 438,\n",
       " 439,\n",
       " 441,\n",
       " 443,\n",
       " 444,\n",
       " 446,\n",
       " 448,\n",
       " 449,\n",
       " 450,\n",
       " 65987,\n",
       " 451,\n",
       " 453,\n",
       " 454,\n",
       " 33223,\n",
       " 452,\n",
       " 457,\n",
       " 458,\n",
       " 33225,\n",
       " 459,\n",
       " 461,\n",
       " 462,\n",
       " 460,\n",
       " 465,\n",
       " 466,\n",
       " 66003,\n",
       " 468,\n",
       " 467,\n",
       " 66006,\n",
       " 471,\n",
       " 472,\n",
       " 470,\n",
       " 476,\n",
       " 477,\n",
       " 478,\n",
       " 479,\n",
       " 480,\n",
       " 481,\n",
       " 482,\n",
       " 483,\n",
       " 484,\n",
       " 33251,\n",
       " 485,\n",
       " 487,\n",
       " 488,\n",
       " 489,\n",
       " 98789,\n",
       " 491,\n",
       " 33256,\n",
       " 493,\n",
       " 494,\n",
       " 495,\n",
       " 496,\n",
       " 497,\n",
       " 498,\n",
       " 499,\n",
       " 500,\n",
       " 501,\n",
       " 502,\n",
       " 33266,\n",
       " 504,\n",
       " 33273,\n",
       " 506,\n",
       " 505,\n",
       " 509,\n",
       " 66045,\n",
       " 511,\n",
       " 512,\n",
       " 514,\n",
       " 517,\n",
       " 518,\n",
       " 519,\n",
       " 66056,\n",
       " 521,\n",
       " 523,\n",
       " 524,\n",
       " 525,\n",
       " 98830,\n",
       " 529,\n",
       " 530,\n",
       " 531,\n",
       " 66069,\n",
       " 534,\n",
       " 533,\n",
       " 536,\n",
       " 537,\n",
       " 538,\n",
       " 535,\n",
       " 541,\n",
       " 542,\n",
       " 544,\n",
       " 545,\n",
       " 546,\n",
       " 547,\n",
       " 548,\n",
       " 549,\n",
       " 550,\n",
       " 551,\n",
       " 552,\n",
       " 553,\n",
       " 66084,\n",
       " 33319,\n",
       " 554,\n",
       " 557,\n",
       " 66093,\n",
       " 559,\n",
       " 33327,\n",
       " 558,\n",
       " 562,\n",
       " 33326,\n",
       " 564,\n",
       " 33333,\n",
       " 566,\n",
       " 567,\n",
       " 568,\n",
       " 98870,\n",
       " 572,\n",
       " 573,\n",
       " 574,\n",
       " 575,\n",
       " 576,\n",
       " 577,\n",
       " 578,\n",
       " 579,\n",
       " 580,\n",
       " 33346,\n",
       " 582,\n",
       " 66117,\n",
       " 585,\n",
       " 586,\n",
       " 587,\n",
       " 588,\n",
       " 590,\n",
       " 33360,\n",
       " 592,\n",
       " 594,\n",
       " 66131,\n",
       " 596,\n",
       " 597,\n",
       " 66129,\n",
       " 595,\n",
       " 600,\n",
       " 601,\n",
       " 602,\n",
       " 603,\n",
       " 604,\n",
       " 607,\n",
       " 608,\n",
       " 609,\n",
       " 610,\n",
       " 33379,\n",
       " 612,\n",
       " 33377,\n",
       " 614,\n",
       " 615,\n",
       " 616,\n",
       " 618,\n",
       " 619,\n",
       " 33390,\n",
       " 622,\n",
       " 625,\n",
       " 98930,\n",
       " 627,\n",
       " 628,\n",
       " 632,\n",
       " 633,\n",
       " 634,\n",
       " 635,\n",
       " 638,\n",
       " 641,\n",
       " 642,\n",
       " 66177,\n",
       " 33411,\n",
       " 645,\n",
       " 646,\n",
       " 647,\n",
       " 648,\n",
       " 649,\n",
       " 650,\n",
       " 651,\n",
       " 33414,\n",
       " 653,\n",
       " 98949,\n",
       " 656,\n",
       " 657,\n",
       " 658,\n",
       " 659,\n",
       " 33427,\n",
       " 661,\n",
       " 662,\n",
       " 663,\n",
       " 33431,\n",
       " 66201,\n",
       " 665,\n",
       " 667,\n",
       " 668,\n",
       " 33437,\n",
       " 672,\n",
       " 673,\n",
       " 674,\n",
       " 98978,\n",
       " 676,\n",
       " 678,\n",
       " 33448,\n",
       " 681,\n",
       " 680,\n",
       " 682,\n",
       " 684,\n",
       " 685,\n",
       " 686,\n",
       " 33452,\n",
       " 33457,\n",
       " 98994,\n",
       " 694,\n",
       " 695,\n",
       " 696,\n",
       " 697,\n",
       " 66235,\n",
       " 700,\n",
       " 701,\n",
       " 702,\n",
       " 704,\n",
       " 705,\n",
       " 706,\n",
       " 707,\n",
       " 33476,\n",
       " 709,\n",
       " 712,\n",
       " 713,\n",
       " 714,\n",
       " 66253,\n",
       " 722,\n",
       " 723,\n",
       " 724,\n",
       " 726,\n",
       " 727,\n",
       " 728,\n",
       " 729,\n",
       " 730,\n",
       " 99034,\n",
       " 732,\n",
       " 733,\n",
       " 734,\n",
       " 737,\n",
       " 738,\n",
       " 739,\n",
       " 745,\n",
       " 746,\n",
       " 747,\n",
       " 749,\n",
       " 99055,\n",
       " 752,\n",
       " 33519,\n",
       " 757,\n",
       " 758,\n",
       " 759,\n",
       " 33525,\n",
       " 762,\n",
       " 763,\n",
       " 33530,\n",
       " 765,\n",
       " 767,\n",
       " 768,\n",
       " 769,\n",
       " 770,\n",
       " 773,\n",
       " 774,\n",
       " 775,\n",
       " 776,\n",
       " 99081,\n",
       " 33542,\n",
       " 779,\n",
       " 33547,\n",
       " 99077,\n",
       " 782,\n",
       " 781,\n",
       " 784,\n",
       " 33553,\n",
       " 785,\n",
       " 33554,\n",
       " 787,\n",
       " 789,\n",
       " 791,\n",
       " 794,\n",
       " 796,\n",
       " 798,\n",
       " 799,\n",
       " 33566,\n",
       " 802,\n",
       " 803,\n",
       " 33572,\n",
       " 805,\n",
       " 806,\n",
       " 807,\n",
       " 808,\n",
       " 99113,\n",
       " 810,\n",
       " 811,\n",
       " 812,\n",
       " 804,\n",
       " 99116,\n",
       " 815,\n",
       " 33584,\n",
       " 817,\n",
       " 809,\n",
       " 819,\n",
       " 821,\n",
       " 823,\n",
       " 824,\n",
       " 825,\n",
       " 826,\n",
       " 827,\n",
       " 33596,\n",
       " 829,\n",
       " 830,\n",
       " 33599,\n",
       " 832,\n",
       " 831,\n",
       " 834,\n",
       " 835,\n",
       " 836,\n",
       " 837,\n",
       " 838,\n",
       " 839,\n",
       " 33607,\n",
       " 847,\n",
       " 848,\n",
       " 849,\n",
       " 99154,\n",
       " 850,\n",
       " 855,\n",
       " 856,\n",
       " 858,\n",
       " 859,\n",
       " 861,\n",
       " 862,\n",
       " 33636,\n",
       " 869,\n",
       " 868,\n",
       " 873,\n",
       " 874,\n",
       " 875,\n",
       " 878,\n",
       " 879,\n",
       " 882,\n",
       " 883,\n",
       " 884,\n",
       " 33651,\n",
       " 887,\n",
       " 33659,\n",
       " 892,\n",
       " 891,\n",
       " 894,\n",
       " 895,\n",
       " 896,\n",
       " 897,\n",
       " 66433,\n",
       " 898,\n",
       " 902,\n",
       " 33671,\n",
       " 905,\n",
       " 908,\n",
       " 909,\n",
       " 910,\n",
       " 911,\n",
       " 912,\n",
       " 33681,\n",
       " 913,\n",
       " 915,\n",
       " 916,\n",
       " 33686,\n",
       " 922,\n",
       " 33693,\n",
       " 927,\n",
       " 928,\n",
       " 33699,\n",
       " 932,\n",
       " 933,\n",
       " 33701,\n",
       " 33702,\n",
       " 938,\n",
       " 939,\n",
       " 940,\n",
       " 941,\n",
       " 942,\n",
       " 943,\n",
       " 944,\n",
       " 33707,\n",
       " 946,\n",
       " 33714,\n",
       " 947,\n",
       " 949,\n",
       " 33718,\n",
       " 951,\n",
       " 948,\n",
       " 33721,\n",
       " 66490,\n",
       " 954,\n",
       " 33724,\n",
       " 956,\n",
       " 66494,\n",
       " 66495,\n",
       " 958,\n",
       " 960,\n",
       " 962,\n",
       " 66497,\n",
       " 965,\n",
       " 968,\n",
       " 969,\n",
       " 973,\n",
       " 975,\n",
       " 976,\n",
       " 977,\n",
       " 978,\n",
       " 979,\n",
       " 33749,\n",
       " 983,\n",
       " 33751,\n",
       " 988,\n",
       " 990,\n",
       " 991,\n",
       " 33759,\n",
       " 993,\n",
       " 33763,\n",
       " 998,\n",
       " 1000,\n",
       " 1001,\n",
       " 33770,\n",
       " 1003,\n",
       " 1004,\n",
       " 66538,\n",
       " 1007,\n",
       " 1008,\n",
       " 1011,\n",
       " 1012,\n",
       " 33780,\n",
       " 1014,\n",
       " 66550,\n",
       " 1013,\n",
       " 1015,\n",
       " 1018,\n",
       " 1021,\n",
       " 1026,\n",
       " 33795,\n",
       " 1030,\n",
       " 1032,\n",
       " 1033,\n",
       " 1034,\n",
       " 1035,\n",
       " 1037,\n",
       " 33806,\n",
       " 1039,\n",
       " 66575,\n",
       " 1038,\n",
       " 1042,\n",
       " 1044,\n",
       " 1045,\n",
       " 1047,\n",
       " 1049,\n",
       " 1051,\n",
       " 1052,\n",
       " 1053,\n",
       " 1055,\n",
       " 1056,\n",
       " 1059,\n",
       " 1061,\n",
       " 1062,\n",
       " 1063,\n",
       " 1064,\n",
       " 33833,\n",
       " 33832,\n",
       " 1065,\n",
       " 1069,\n",
       " 1070,\n",
       " 1073,\n",
       " 1075,\n",
       " 1076,\n",
       " 1077,\n",
       " 1079,\n",
       " 1080,\n",
       " 1082,\n",
       " 1083,\n",
       " 1084,\n",
       " 33851,\n",
       " 1087,\n",
       " 1090,\n",
       " 1091,\n",
       " 1093,\n",
       " 1095,\n",
       " 1096,\n",
       " 1097,\n",
       " 33865,\n",
       " 1099,\n",
       " 1101,\n",
       " 1102,\n",
       " 1103,\n",
       " 33871,\n",
       " 1105,\n",
       " 33873,\n",
       " 1107,\n",
       " 66643,\n",
       " 1109,\n",
       " 1110,\n",
       " 1111,\n",
       " 1112,\n",
       " 1113,\n",
       " 1114,\n",
       " 1118,\n",
       " 1119,\n",
       " 1120,\n",
       " 1121,\n",
       " 1122,\n",
       " 1124,\n",
       " 1126,\n",
       " 1127,\n",
       " 1128,\n",
       " 33898,\n",
       " 1132,\n",
       " 1134,\n",
       " 1136,\n",
       " 33906,\n",
       " 1140,\n",
       " 1142,\n",
       " 33911,\n",
       " 1143,\n",
       " 1147,\n",
       " 1149,\n",
       " 1151,\n",
       " 1154,\n",
       " 66691,\n",
       " 1156,\n",
       " 1160,\n",
       " 1162,\n",
       " 1163,\n",
       " 1167,\n",
       " 1168,\n",
       " 1172,\n",
       " 66708,\n",
       " 1174,\n",
       " 1175,\n",
       " 1176,\n",
       " 1179,\n",
       " 1180,\n",
       " 1181,\n",
       " 1182,\n",
       " 1184,\n",
       " 1185,\n",
       " 1186,\n",
       " 1187,\n",
       " 33953,\n",
       " 1189,\n",
       " 33958,\n",
       " 1191,\n",
       " 66727,\n",
       " 1194,\n",
       " 1196,\n",
       " 1197,\n",
       " 1199,\n",
       " 1200,\n",
       " 33970,\n",
       " 1202,\n",
       " 1205,\n",
       " 33973,\n",
       " 1207,\n",
       " 33976,\n",
       " 1211,\n",
       " 1212,\n",
       " 66749,\n",
       " 1214,\n",
       " 1217,\n",
       " 66754,\n",
       " 1220,\n",
       " 1221,\n",
       " 33990,\n",
       " 1223,\n",
       " 1224,\n",
       " 33993,\n",
       " 1229,\n",
       " 1230,\n",
       " 1231,\n",
       " 33998,\n",
       " 1235,\n",
       " 34004,\n",
       " 34006,\n",
       " 1238,\n",
       " 1241,\n",
       " 34013,\n",
       " 1246,\n",
       " 1251,\n",
       " 1260,\n",
       " 1262,\n",
       " 1263,\n",
       " 34030,\n",
       " 1265,\n",
       " 1268,\n",
       " 1271,\n",
       " 1272,\n",
       " 1273,\n",
       " 1274,\n",
       " 1276,\n",
       " 1279,\n",
       " 1280,\n",
       " 1281,\n",
       " 1282,\n",
       " 1283,\n",
       " 1285,\n",
       " 1290,\n",
       " 1291,\n",
       " 1292,\n",
       " 1293,\n",
       " 1297,\n",
       " 1298,\n",
       " 1302,\n",
       " 1303,\n",
       " 34072,\n",
       " 1307,\n",
       " 1308,\n",
       " 1310,\n",
       " 1315,\n",
       " 1319,\n",
       " 1320,\n",
       " 1321,\n",
       " 66857,\n",
       " 1323,\n",
       " 1325,\n",
       " 1330,\n",
       " 1331,\n",
       " 1333,\n",
       " 1338,\n",
       " 1340,\n",
       " 34108,\n",
       " 1342,\n",
       " 66879,\n",
       " 34111,\n",
       " 1345,\n",
       " 1346,\n",
       " 1347,\n",
       " 1348,\n",
       " 1349,\n",
       " 1351,\n",
       " 1352,\n",
       " 1356,\n",
       " 1361,\n",
       " 1362,\n",
       " 1363,\n",
       " 1366,\n",
       " 1367,\n",
       " 1368,\n",
       " 34136,\n",
       " 1370,\n",
       " 1371,\n",
       " 1372,\n",
       " 1373,\n",
       " 1374,\n",
       " 1375,\n",
       " 34144,\n",
       " 66912,\n",
       " 1378,\n",
       " 1379,\n",
       " 1380,\n",
       " 1381,\n",
       " 1376,\n",
       " 1384,\n",
       " 1386,\n",
       " 32840,\n",
       " 1388,\n",
       " 1389,\n",
       " 1387,\n",
       " 1392,\n",
       " 1393,\n",
       " 1395,\n",
       " 34164,\n",
       " 34167,\n",
       " 34168,\n",
       " 1401,\n",
       " 1402,\n",
       " 34171,\n",
       " 1403,\n",
       " 1404,\n",
       " 1410,\n",
       " 1411,\n",
       " 32845,\n",
       " 1413,\n",
       " 1414,\n",
       " 1415,\n",
       " 1416,\n",
       " 1417,\n",
       " 66955,\n",
       " 1419,\n",
       " 1420,\n",
       " 34188,\n",
       " 1424,\n",
       " 34192,\n",
       " 34194,\n",
       " 34195,\n",
       " 1427,\n",
       " 1429,\n",
       " 1430,\n",
       " 1431,\n",
       " 34201,\n",
       " 1435,\n",
       " 1437,\n",
       " 1438,\n",
       " 1440,\n",
       " 1443,\n",
       " 34211,\n",
       " 1446,\n",
       " 34215,\n",
       " 1448,\n",
       " 1449,\n",
       " 34219,\n",
       " 1451,\n",
       " 1453,\n",
       " 34221,\n",
       " 1455,\n",
       " 34220,\n",
       " 1458,\n",
       " 1459,\n",
       " 34227,\n",
       " 1461,\n",
       " 34231,\n",
       " 1463,\n",
       " 1465,\n",
       " 1466,\n",
       " 1467,\n",
       " 1471,\n",
       " 1473,\n",
       " 1475,\n",
       " 34243,\n",
       " 1477,\n",
       " ...}"
      ]
     },
     "execution_count": 6,
     "metadata": {},
     "output_type": "execute_result"
    }
   ],
   "source": [
    "used_token_ids"
   ]
  },
  {
   "cell_type": "code",
   "execution_count": 7,
   "id": "84485f59",
   "metadata": {},
   "outputs": [],
   "source": [
    "special_ids = [tokenizer.pad_token_id, tokenizer.eos_token_id]\n",
    "used_token_ids.update([tid for tid in special_ids if tid is not None])"
   ]
  },
  {
   "cell_type": "code",
   "execution_count": 8,
   "id": "f61a0315",
   "metadata": {},
   "outputs": [
    {
     "data": {
      "text/plain": [
       "[151644]"
      ]
     },
     "execution_count": 8,
     "metadata": {},
     "output_type": "execute_result"
    }
   ],
   "source": [
    "maxlength = 8192\n",
    "start_token = tokenizer(\n",
    "        '<|im_start|>',\n",
    "       add_special_tokens=False\n",
    "    )['input_ids']\n",
    "start_token"
   ]
  },
  {
   "cell_type": "code",
   "execution_count": 9,
   "id": "e59aee74",
   "metadata": {},
   "outputs": [],
   "source": [
    "used_token_ids.update(start_token)"
   ]
  },
  {
   "cell_type": "code",
   "execution_count": 10,
   "id": "ab6e0f58",
   "metadata": {},
   "outputs": [
    {
     "data": {
      "text/plain": [
       "10709"
      ]
     },
     "execution_count": 10,
     "metadata": {},
     "output_type": "execute_result"
    }
   ],
   "source": [
    "len(used_token_ids)"
   ]
  },
  {
   "cell_type": "code",
   "execution_count": 11,
   "id": "3b3ec29b",
   "metadata": {},
   "outputs": [],
   "source": [
    "token_id_list = sorted(list(used_token_ids))\n",
    "old2new = {old: new for new, old in enumerate(token_id_list)}\n",
    "new2old = {v: k for k, v in old2new.items()}"
   ]
  },
  {
   "cell_type": "markdown",
   "id": "c7f8a406",
   "metadata": {},
   "source": [
    "#custom dataset"
   ]
  },
  {
   "cell_type": "code",
   "execution_count": 3,
   "id": "a314fe81",
   "metadata": {},
   "outputs": [],
   "source": [
    "class CustomDataset(Dataset):\n",
    "    def __init__(self, data):\n",
    "        self.data = data\n",
    "        self.max_length = 8192\n",
    "\n",
    "    def __len__(self):\n",
    "        return len(self.data)\n",
    "    \n",
    "    def __getitem__(self, index):\n",
    "        question = df.iloc[index]['Patient query']\n",
    "        answer = df.iloc[index]['Doctor response']\n",
    "\n",
    "        question_ids = tokenizer(\n",
    "            question,\n",
    "            truncation=True,\n",
    "            max_length=self.max_length,\n",
    "            add_special_tokens=False,\n",
    "            return_tensors=\"pt\"\n",
    "        )['input_ids'][0] \n",
    "\n",
    "        answer_ids = tokenizer(\n",
    "            answer,\n",
    "            truncation=True,\n",
    "            max_length=self.max_length,\n",
    "             add_special_tokens=False,\n",
    "            return_tensors=\"pt\"\n",
    "        )['input_ids'][0]\n",
    "\n",
    "        return question_ids, answer_ids\n"
   ]
  },
  {
   "cell_type": "code",
   "execution_count": null,
   "id": "eac15a5c",
   "metadata": {},
   "outputs": [],
   "source": [
    "# def collate_fn(batch):\n",
    "#     questions, answers = zip(*batch) \n",
    "\n",
    "#     padded_questions = pad_sequence(questions, batch_first=True, padding_value=tokenizer.pad_token_id)\n",
    "#     padded_answers = pad_sequence(answers, batch_first=True, padding_value=tokenizer.pad_token_id)\n",
    "\n",
    "#     return padded_questions, padded_answers\n"
   ]
  },
  {
   "cell_type": "code",
   "execution_count": 4,
   "id": "d546c05a",
   "metadata": {},
   "outputs": [],
   "source": [
    "dataset = CustomDataset(df) \n",
    "val_dataset = CustomDataset(val_df)"
   ]
  },
  {
   "cell_type": "code",
   "execution_count": 5,
   "id": "b8aa7efd",
   "metadata": {},
   "outputs": [],
   "source": [
    "train_loader = DataLoader( dataset, batch_size=1, shuffle=True)\n",
    "val_loader = DataLoader( val_dataset, batch_size=1,  shuffle=True)"
   ]
  },
  {
   "cell_type": "code",
   "execution_count": 6,
   "id": "94d00f1d",
   "metadata": {},
   "outputs": [],
   "source": [
    "device = 'cuda' if torch.cuda.is_available() else 'cpu'"
   ]
  },
  {
   "cell_type": "code",
   "execution_count": 7,
   "id": "892b0b8d",
   "metadata": {},
   "outputs": [],
   "source": [
    "class EncoderDecoderWithKBAttention(nn.Module):\n",
    "    def __init__(self, embed_model, vocab_size, hidden_dim, embedding_dim=1024):\n",
    "        super().__init__()\n",
    "        self.embed_model = embed_model\n",
    "        self.encoder = nn.LSTM(embedding_dim, hidden_dim, dropout=0.2, batch_first=True, bidirectional=True)\n",
    "        self.decoder = nn.LSTMCell(embedding_dim, hidden_dim * 2)\n",
    "\n",
    "        # Attention over encoder outputs\n",
    "        self.W_denc1 = nn.Linear(hidden_dim * 4, hidden_dim)\n",
    "        self.W_denc2 = nn.Linear(hidden_dim, hidden_dim)\n",
    "        self.w = nn.Linear(hidden_dim, 1)\n",
    "\n",
    "        # Attention over KB keys (commented out, unused)\n",
    "        # self.W_kb1 = nn.Linear(hidden_dim + embedding_dim, hidden_dim)\n",
    "        # self.W_kb2 = nn.Linear(hidden_dim, hidden_dim)\n",
    "        # self.r = nn.Linear(hidden_dim, 1)\n",
    "\n",
    "        # Final vocab projection\n",
    "        self.U = nn.Linear(hidden_dim * 4, vocab_size)\n",
    "\n",
    "        self.vocab_size = vocab_size\n",
    "\n",
    "    def decoder_attention(self, decoder_hidden, encoder_hidden):\n",
    "        B, T, H = encoder_hidden.shape  # B=batch, T=encoder seq len, H=hidden size\n",
    "        decoder_exp = decoder_hidden.unsqueeze(1).expand(-1, T, -1)  # (B, T, H)\n",
    "        combined = torch.cat([encoder_hidden, decoder_exp], dim=2)  # (B, T, 2H)\n",
    "        x = torch.tanh(self.W_denc1(combined))                      # (B, T, H)\n",
    "        x = torch.tanh(self.W_denc2(x))                             # (B, T, H)\n",
    "        u = self.w(x).squeeze(-1)                                   # (B, T)\n",
    "        attn = torch.softmax(u, dim=1)                              # (B, T)\n",
    "\n",
    "        context = torch.bmm(attn.unsqueeze(1), encoder_hidden).squeeze(1)  # (B, H)\n",
    "        concat = torch.cat([decoder_hidden, context], dim=1)          # (B, 2H)\n",
    "        vocab_logits = self.U(concat)                                 # (B, vocab_size)\n",
    "        return vocab_logits\n",
    "\n",
    "    def forward(self, inputs, targets, teacher_forcing_ratio=1.0, kb_keys=None, fine_tune=False):\n",
    "    \n",
    "\n",
    "        batch_size, T_out, _ = targets.shape\n",
    "\n",
    "        enc_out, (h_enc, c_enc) = self.encoder(inputs)  # enc_out: (B, T_in, H)\n",
    "        hidden = torch.cat([h_enc[0], h_enc[-1]], dim=-1)  # (B, hidden_dim*2)\n",
    "        cell = torch.cat([c_enc[0], c_enc[-1]], dim=-1)    # (B, hidden_dim*2)\n",
    "\n",
    "        logits = []\n",
    "\n",
    "        dec_input = targets[:, 0, :]  # Initial decoder input (usually <sos> embedding)\n",
    "\n",
    "        for t in range(1, T_out):\n",
    "            hidden_state, cell_state = self.decoder(dec_input, (hidden, cell))\n",
    "            hidden = hidden_state\n",
    "            cell = cell_state\n",
    "\n",
    "            hidden_logits = self.decoder_attention(hidden_state, enc_out)\n",
    "            logits.append(hidden_logits)\n",
    "\n",
    "            # Decide whether to do teacher forcing this step\n",
    "            use_teacher_forcing = (torch.rand(1).item() < teacher_forcing_ratio)\n",
    "\n",
    "            if use_teacher_forcing:\n",
    "                # Use ground-truth target embedding for next input\n",
    "                dec_input = targets[:, t, :]\n",
    "            else:\n",
    "                # Use model prediction:\n",
    "                pred_tokens = torch.argmax(hidden_logits, dim=1)  # (B,)\n",
    "                with torch.no_grad():\n",
    "                    # Get embeddings for predicted tokens\n",
    "                    # Assuming embed_model accepts token IDs and returns embeddings\n",
    "                    dec_input = self.embed_model(pred_tokens)['last_hidden_state'][:, 0, :]\n",
    "\n",
    "        return torch.stack(logits, dim=1)  # (B, T_out-1, vocab_size)\n"
   ]
  },
  {
   "cell_type": "code",
   "execution_count": 8,
   "id": "652500de",
   "metadata": {},
   "outputs": [
    {
     "name": "stderr",
     "output_type": "stream",
     "text": [
      "d:\\Unversity\\KeyValueMemory\\kv_env\\lib\\site-packages\\torch\\nn\\modules\\rnn.py:123: UserWarning: dropout option adds dropout after all but last recurrent layer, so non-zero dropout expects num_layers greater than 1, but got dropout=0.2 and num_layers=1\n",
      "  warnings.warn(\n"
     ]
    }
   ],
   "source": [
    "vocab_size = len(tokenizer.vocab)\n",
    "model = EncoderDecoderWithKBAttention(embed_model=embed_model, vocab_size=vocab_size, hidden_dim=320, embedding_dim=1024).to(device)"
   ]
  },
  {
   "cell_type": "code",
   "execution_count": 29,
   "id": "ae9b129a",
   "metadata": {},
   "outputs": [
    {
     "data": {
      "text/plain": [
       "[151644]"
      ]
     },
     "execution_count": 29,
     "metadata": {},
     "output_type": "execute_result"
    }
   ],
   "source": [
    "start_token"
   ]
  },
  {
   "cell_type": "code",
   "execution_count": 20,
   "id": "110392b2",
   "metadata": {},
   "outputs": [
    {
     "data": {
      "text/plain": [
       "Qwen3Model(\n",
       "  (embed_tokens): Embedding(151669, 1024)\n",
       "  (layers): ModuleList(\n",
       "    (0-27): 28 x Qwen3DecoderLayer(\n",
       "      (self_attn): Qwen3Attention(\n",
       "        (q_proj): Linear(in_features=1024, out_features=2048, bias=False)\n",
       "        (k_proj): Linear(in_features=1024, out_features=1024, bias=False)\n",
       "        (v_proj): Linear(in_features=1024, out_features=1024, bias=False)\n",
       "        (o_proj): Linear(in_features=2048, out_features=1024, bias=False)\n",
       "        (q_norm): Qwen3RMSNorm((128,), eps=1e-06)\n",
       "        (k_norm): Qwen3RMSNorm((128,), eps=1e-06)\n",
       "      )\n",
       "      (mlp): Qwen3MLP(\n",
       "        (gate_proj): Linear(in_features=1024, out_features=3072, bias=False)\n",
       "        (up_proj): Linear(in_features=1024, out_features=3072, bias=False)\n",
       "        (down_proj): Linear(in_features=3072, out_features=1024, bias=False)\n",
       "        (act_fn): SiLU()\n",
       "      )\n",
       "      (input_layernorm): Qwen3RMSNorm((1024,), eps=1e-06)\n",
       "      (post_attention_layernorm): Qwen3RMSNorm((1024,), eps=1e-06)\n",
       "    )\n",
       "  )\n",
       "  (norm): Qwen3RMSNorm((1024,), eps=1e-06)\n",
       "  (rotary_emb): Qwen3RotaryEmbedding()\n",
       ")"
      ]
     },
     "execution_count": 20,
     "metadata": {},
     "output_type": "execute_result"
    }
   ],
   "source": [
    "embed_model"
   ]
  },
  {
   "cell_type": "code",
   "execution_count": null,
   "id": "297eb140",
   "metadata": {},
   "outputs": [
    {
     "name": "stdout",
     "output_type": "stream",
     "text": [
      "torch.Size([8, 173, 151669])\n",
      "torch.Size([8, 174])\n"
     ]
    }
   ],
   "source": [
    "for input, target in train_loader:\n",
    "    input = embed_model(input)['last_hidden_state']\n",
    "    #print(input.shape)\n",
    "    #print(target.shape)\n",
    "    batch_size = target.shape[0]\n",
    "    target = torch.cat([start_token[:,0].repeat(batch_size, 1),target] , dim=1)\n",
    "    #print(target.shape)\n",
    "    outputs = embed_model(target)['last_hidden_state']\n",
    "    #print(outputs)\n",
    "    #print(outputs.shape)\n",
    "    #print(input.shape)\n",
    "    #print(input)\n",
    "    input = input.to(device)\n",
    "    outputs = outputs.to(device)\n",
    "    target = target.to(device)\n",
    "    logits =  model(input, outputs)\n",
    "    # #print(target[0][1:].unsqueeze(0).shape)\n",
    "    print(logits.shape)\n",
    "    print(target.shape)\n",
    "    break\n",
    "    "
   ]
  },
  {
   "cell_type": "code",
   "execution_count": 9,
   "id": "a635eefa",
   "metadata": {},
   "outputs": [],
   "source": [
    "learning_rate = 0.001\n",
    "epochs = 25\n",
    "criterion = nn.CrossEntropyLoss()\n",
    "#weight_decay = 1e-2\n",
    "optimizer = torch.optim.Adam(model.parameters(), lr=learning_rate)"
   ]
  },
  {
   "cell_type": "code",
   "execution_count": 10,
   "id": "77a207f0",
   "metadata": {},
   "outputs": [
    {
     "name": "stderr",
     "output_type": "stream",
     "text": [
      "Truncation was not explicitly activated but `max_length` is provided a specific value, please use `truncation=True` to explicitly truncate examples to max length. Defaulting to 'longest_first' truncation strategy. If you encode pairs of sequences (GLUE-style) with the tokenizer you can select this strategy more precisely by providing a specific strategy to `truncation`.\n"
     ]
    }
   ],
   "source": [
    "maxlength = 8192\n",
    "start_token = tokenizer(\n",
    "        '<|im_start|>',\n",
    "        max_length= maxlength,\n",
    "        return_tensors=\"pt\",\n",
    "    )['input_ids']"
   ]
  },
  {
   "cell_type": "code",
   "execution_count": 11,
   "id": "3969db77",
   "metadata": {},
   "outputs": [
    {
     "name": "stderr",
     "output_type": "stream",
     "text": [
      "Training Epoch 1: 100%|██████████| 1000/1000 [11:06<00:00,  1.50it/s]\n",
      "Validating: 100%|██████████| 200/200 [00:30<00:00,  6.63it/s]\n"
     ]
    },
    {
     "name": "stdout",
     "output_type": "stream",
     "text": [
      "Epoch 1, Train Loss: 4.4604, Val Loss: 2.9718, Train Acc: 0.2865, Val Acc: 0.3944\n"
     ]
    },
    {
     "name": "stderr",
     "output_type": "stream",
     "text": [
      "Training Epoch 2: 100%|██████████| 1000/1000 [11:08<00:00,  1.50it/s]\n",
      "Validating: 100%|██████████| 200/200 [00:29<00:00,  6.71it/s]\n"
     ]
    },
    {
     "name": "stdout",
     "output_type": "stream",
     "text": [
      "Epoch 2, Train Loss: 2.9106, Val Loss: 2.3055, Train Acc: 0.3915, Val Acc: 0.4607\n"
     ]
    },
    {
     "name": "stderr",
     "output_type": "stream",
     "text": [
      "Training Epoch 3: 100%|██████████| 1000/1000 [11:07<00:00,  1.50it/s]\n",
      "Validating: 100%|██████████| 200/200 [00:29<00:00,  6.72it/s]\n"
     ]
    },
    {
     "name": "stdout",
     "output_type": "stream",
     "text": [
      "Epoch 3, Train Loss: 2.3769, Val Loss: 1.9532, Train Acc: 0.4434, Val Acc: 0.5178\n"
     ]
    },
    {
     "name": "stderr",
     "output_type": "stream",
     "text": [
      "Training Epoch 4: 100%|██████████| 1000/1000 [11:09<00:00,  1.49it/s]\n",
      "Validating: 100%|██████████| 200/200 [00:39<00:00,  5.10it/s]\n"
     ]
    },
    {
     "name": "stdout",
     "output_type": "stream",
     "text": [
      "Epoch 4, Train Loss: 2.0216, Val Loss: 1.6712, Train Acc: 0.4957, Val Acc: 0.5689\n"
     ]
    },
    {
     "name": "stderr",
     "output_type": "stream",
     "text": [
      "Training Epoch 5: 100%|██████████| 1000/1000 [11:26<00:00,  1.46it/s]\n",
      "Validating: 100%|██████████| 200/200 [00:30<00:00,  6.66it/s]\n"
     ]
    },
    {
     "name": "stdout",
     "output_type": "stream",
     "text": [
      "Epoch 5, Train Loss: 1.7515, Val Loss: 1.4445, Train Acc: 0.5416, Val Acc: 0.6137\n"
     ]
    },
    {
     "name": "stderr",
     "output_type": "stream",
     "text": [
      "Training Epoch 6: 100%|██████████| 1000/1000 [11:09<00:00,  1.49it/s]\n",
      "Validating: 100%|██████████| 200/200 [00:29<00:00,  6.74it/s]\n"
     ]
    },
    {
     "name": "stdout",
     "output_type": "stream",
     "text": [
      "Epoch 6, Train Loss: 1.5535, Val Loss: 1.3369, Train Acc: 0.5820, Val Acc: 0.6359\n"
     ]
    },
    {
     "name": "stderr",
     "output_type": "stream",
     "text": [
      "Training Epoch 7: 100%|██████████| 1000/1000 [11:15<00:00,  1.48it/s]\n",
      "Validating: 100%|██████████| 200/200 [00:29<00:00,  6.67it/s]\n"
     ]
    },
    {
     "name": "stdout",
     "output_type": "stream",
     "text": [
      "Epoch 7, Train Loss: 1.3908, Val Loss: 1.1944, Train Acc: 0.6160, Val Acc: 0.6703\n"
     ]
    },
    {
     "name": "stderr",
     "output_type": "stream",
     "text": [
      "Training Epoch 8: 100%|██████████| 1000/1000 [11:11<00:00,  1.49it/s]\n",
      "Validating: 100%|██████████| 200/200 [00:30<00:00,  6.52it/s]\n"
     ]
    },
    {
     "name": "stdout",
     "output_type": "stream",
     "text": [
      "Epoch 8, Train Loss: 1.2611, Val Loss: 1.0848, Train Acc: 0.6444, Val Acc: 0.6910\n"
     ]
    },
    {
     "name": "stderr",
     "output_type": "stream",
     "text": [
      "Training Epoch 9: 100%|██████████| 1000/1000 [11:18<00:00,  1.47it/s]\n",
      "Validating: 100%|██████████| 200/200 [00:30<00:00,  6.53it/s]\n"
     ]
    },
    {
     "name": "stdout",
     "output_type": "stream",
     "text": [
      "Epoch 9, Train Loss: 1.1451, Val Loss: 0.9521, Train Acc: 0.6711, Val Acc: 0.7302\n"
     ]
    },
    {
     "name": "stderr",
     "output_type": "stream",
     "text": [
      "Training Epoch 10: 100%|██████████| 1000/1000 [11:44<00:00,  1.42it/s]\n",
      "Validating: 100%|██████████| 200/200 [00:39<00:00,  5.05it/s]\n"
     ]
    },
    {
     "name": "stdout",
     "output_type": "stream",
     "text": [
      "Epoch 10, Train Loss: 1.0330, Val Loss: 0.8531, Train Acc: 0.6989, Val Acc: 0.7562\n"
     ]
    },
    {
     "name": "stderr",
     "output_type": "stream",
     "text": [
      "Training Epoch 11: 100%|██████████| 1000/1000 [11:56<00:00,  1.40it/s]\n",
      "Validating: 100%|██████████| 200/200 [00:39<00:00,  5.04it/s]\n"
     ]
    },
    {
     "name": "stdout",
     "output_type": "stream",
     "text": [
      "Epoch 11, Train Loss: 0.9335, Val Loss: 0.8091, Train Acc: 0.7267, Val Acc: 0.7650\n"
     ]
    },
    {
     "name": "stderr",
     "output_type": "stream",
     "text": [
      "Training Epoch 12: 100%|██████████| 1000/1000 [11:54<00:00,  1.40it/s]\n",
      "Validating: 100%|██████████| 200/200 [00:39<00:00,  5.07it/s]\n"
     ]
    },
    {
     "name": "stdout",
     "output_type": "stream",
     "text": [
      "Epoch 12, Train Loss: 0.8448, Val Loss: 0.7189, Train Acc: 0.7500, Val Acc: 0.7899\n"
     ]
    },
    {
     "name": "stderr",
     "output_type": "stream",
     "text": [
      "Training Epoch 13: 100%|██████████| 1000/1000 [11:55<00:00,  1.40it/s]\n",
      "Validating: 100%|██████████| 200/200 [00:39<00:00,  5.02it/s]\n"
     ]
    },
    {
     "name": "stdout",
     "output_type": "stream",
     "text": [
      "Epoch 13, Train Loss: 0.7768, Val Loss: 0.6476, Train Acc: 0.7696, Val Acc: 0.8134\n"
     ]
    },
    {
     "name": "stderr",
     "output_type": "stream",
     "text": [
      "Training Epoch 14: 100%|██████████| 1000/1000 [11:55<00:00,  1.40it/s]\n",
      "Validating: 100%|██████████| 200/200 [00:39<00:00,  5.12it/s]\n"
     ]
    },
    {
     "name": "stdout",
     "output_type": "stream",
     "text": [
      "Epoch 14, Train Loss: 0.7043, Val Loss: 0.5955, Train Acc: 0.7887, Val Acc: 0.8308\n"
     ]
    },
    {
     "name": "stderr",
     "output_type": "stream",
     "text": [
      "Training Epoch 15: 100%|██████████| 1000/1000 [11:54<00:00,  1.40it/s]\n",
      "Validating: 100%|██████████| 200/200 [00:39<00:00,  5.08it/s]\n"
     ]
    },
    {
     "name": "stdout",
     "output_type": "stream",
     "text": [
      "Epoch 15, Train Loss: 0.6402, Val Loss: 0.5250, Train Acc: 0.8072, Val Acc: 0.8480\n"
     ]
    },
    {
     "name": "stderr",
     "output_type": "stream",
     "text": [
      "Training Epoch 16: 100%|██████████| 1000/1000 [11:55<00:00,  1.40it/s]\n",
      "Validating: 100%|██████████| 200/200 [00:39<00:00,  5.03it/s]\n"
     ]
    },
    {
     "name": "stdout",
     "output_type": "stream",
     "text": [
      "Epoch 16, Train Loss: 0.5853, Val Loss: 0.5082, Train Acc: 0.8239, Val Acc: 0.8537\n"
     ]
    },
    {
     "name": "stderr",
     "output_type": "stream",
     "text": [
      "Training Epoch 17: 100%|██████████| 1000/1000 [11:56<00:00,  1.40it/s]\n",
      "Validating: 100%|██████████| 200/200 [00:39<00:00,  5.06it/s]\n"
     ]
    },
    {
     "name": "stdout",
     "output_type": "stream",
     "text": [
      "Epoch 17, Train Loss: 0.5369, Val Loss: 0.4409, Train Acc: 0.8374, Val Acc: 0.8714\n"
     ]
    },
    {
     "name": "stderr",
     "output_type": "stream",
     "text": [
      "Training Epoch 18: 100%|██████████| 1000/1000 [11:54<00:00,  1.40it/s]\n",
      "Validating: 100%|██████████| 200/200 [00:39<00:00,  5.07it/s]\n"
     ]
    },
    {
     "name": "stdout",
     "output_type": "stream",
     "text": [
      "Epoch 18, Train Loss: 0.4846, Val Loss: 0.4109, Train Acc: 0.8538, Val Acc: 0.8805\n"
     ]
    },
    {
     "name": "stderr",
     "output_type": "stream",
     "text": [
      "Training Epoch 19: 100%|██████████| 1000/1000 [11:55<00:00,  1.40it/s]\n",
      "Validating: 100%|██████████| 200/200 [00:39<00:00,  5.04it/s]\n"
     ]
    },
    {
     "name": "stdout",
     "output_type": "stream",
     "text": [
      "Epoch 19, Train Loss: 0.4401, Val Loss: 0.3816, Train Acc: 0.8678, Val Acc: 0.8907\n"
     ]
    },
    {
     "name": "stderr",
     "output_type": "stream",
     "text": [
      "Training Epoch 20: 100%|██████████| 1000/1000 [11:56<00:00,  1.40it/s]\n",
      "Validating: 100%|██████████| 200/200 [00:39<00:00,  5.08it/s]\n"
     ]
    },
    {
     "name": "stdout",
     "output_type": "stream",
     "text": [
      "Epoch 20, Train Loss: 0.4102, Val Loss: 0.3409, Train Acc: 0.8774, Val Acc: 0.9060\n"
     ]
    },
    {
     "name": "stderr",
     "output_type": "stream",
     "text": [
      "Training Epoch 21: 100%|██████████| 1000/1000 [11:54<00:00,  1.40it/s]\n",
      "Validating: 100%|██████████| 200/200 [00:39<00:00,  5.05it/s]\n"
     ]
    },
    {
     "name": "stdout",
     "output_type": "stream",
     "text": [
      "Epoch 21, Train Loss: 0.3751, Val Loss: 0.3163, Train Acc: 0.8890, Val Acc: 0.9068\n"
     ]
    },
    {
     "name": "stderr",
     "output_type": "stream",
     "text": [
      "Training Epoch 22: 100%|██████████| 1000/1000 [11:56<00:00,  1.40it/s]\n",
      "Validating: 100%|██████████| 200/200 [00:39<00:00,  5.04it/s]\n"
     ]
    },
    {
     "name": "stdout",
     "output_type": "stream",
     "text": [
      "Epoch 22, Train Loss: 0.3498, Val Loss: 0.2927, Train Acc: 0.8943, Val Acc: 0.9177\n"
     ]
    },
    {
     "name": "stderr",
     "output_type": "stream",
     "text": [
      "Training Epoch 23: 100%|██████████| 1000/1000 [11:55<00:00,  1.40it/s]\n",
      "Validating: 100%|██████████| 200/200 [00:38<00:00,  5.13it/s]\n"
     ]
    },
    {
     "name": "stdout",
     "output_type": "stream",
     "text": [
      "Epoch 23, Train Loss: 0.3202, Val Loss: 0.2794, Train Acc: 0.9046, Val Acc: 0.9195\n"
     ]
    },
    {
     "name": "stderr",
     "output_type": "stream",
     "text": [
      "Training Epoch 24: 100%|██████████| 1000/1000 [11:54<00:00,  1.40it/s]\n",
      "Validating: 100%|██████████| 200/200 [00:39<00:00,  5.12it/s]\n"
     ]
    },
    {
     "name": "stdout",
     "output_type": "stream",
     "text": [
      "Epoch 24, Train Loss: 0.3044, Val Loss: 0.2804, Train Acc: 0.9085, Val Acc: 0.9184\n"
     ]
    },
    {
     "name": "stderr",
     "output_type": "stream",
     "text": [
      "Training Epoch 25: 100%|██████████| 1000/1000 [11:56<00:00,  1.39it/s]\n",
      "Validating: 100%|██████████| 200/200 [00:39<00:00,  5.04it/s]\n"
     ]
    },
    {
     "name": "stdout",
     "output_type": "stream",
     "text": [
      "Epoch 25, Train Loss: 0.2874, Val Loss: 0.2371, Train Acc: 0.9144, Val Acc: 0.9312\n"
     ]
    }
   ],
   "source": [
    "train_losses = []\n",
    "val_losses = []\n",
    "train_accuracies = []\n",
    "val_accuracies = []\n",
    "\n",
    "monitor_csv = 'new_monitor.csv'\n",
    "\n",
    "with open(monitor_csv, mode='w', newline='') as f:\n",
    "    writer = csv.writer(f)\n",
    "    writer.writerow(['epoch', 'train_loss', 'val_loss', 'train_accuracy', 'val_accuracy'])\n",
    "\n",
    "for epoch in range(0, epochs):\n",
    "    model.train()\n",
    "    total_train_loss = 0.0\n",
    "    total_train_correct = 0\n",
    "    total_train_tokens = 0\n",
    "\n",
    "    for input_texts, target_tokens in tqdm(train_loader, desc=f\"Training Epoch {epoch+1}\"):\n",
    "        batch_size = target_tokens.size(0)\n",
    "        \n",
    "        # Prepare inputs\n",
    "        input_texts = input_texts[:, :-1].to(device)\n",
    "        target_with_bos = torch.cat([start_token[:, 0].repeat(batch_size, 1), target_tokens], dim=1).to(device)\n",
    "\n",
    "\n",
    "        with torch.no_grad():\n",
    "            input_embeds = embed_model(input_texts)['last_hidden_state']\n",
    "            target_embeds = embed_model(target_with_bos)['last_hidden_state']\n",
    "\n",
    "        input_embeds = input_embeds.to(device)\n",
    "        target_embeds = target_embeds.to(device)\n",
    "        target_tokens = target_tokens.to(device)\n",
    "\n",
    "        # # Map target_tokens to reduced vocab IDs\n",
    "        # target_tokens_np = target_tokens.cpu().numpy()\n",
    "        # target_reduced_np = np.vectorize(lambda x: old2new.get(x, 0))(target_tokens_np)\n",
    "        # target_reduced = torch.tensor(target_reduced_np, dtype=torch.long, device=target_tokens.device)\n",
    "\n",
    "        optimizer.zero_grad()\n",
    "        logits = model(input_embeds, target_embeds)\n",
    "\n",
    "        loss = criterion(\n",
    "            logits.view(-1, logits.shape[-1]),\n",
    "            target_tokens.reshape(-1)\n",
    "        )\n",
    "        loss.backward()\n",
    "        optimizer.step()\n",
    "\n",
    "        total_train_loss += loss.item()\n",
    "\n",
    "        preds = torch.argmax(logits, dim=-1)\n",
    "        correct = (preds == target_tokens).float()\n",
    "        total_train_correct += correct.sum().item()\n",
    "        total_train_tokens += target_tokens.numel()\n",
    "\n",
    "    avg_train_loss = total_train_loss / len(train_loader)\n",
    "    train_accuracy = total_train_correct / total_train_tokens\n",
    "\n",
    "    model.eval()\n",
    "    total_val_loss = 0.0\n",
    "    total_val_correct = 0\n",
    "    total_val_tokens = 0\n",
    "\n",
    "    with torch.no_grad():\n",
    "        for input_texts, target_tokens in tqdm(val_loader, desc=\"Validating\"):\n",
    "            batch_size = target_tokens.size(0)\n",
    "            target_with_bos = torch.cat([start_token[:, 0].repeat(batch_size, 1), target_tokens], dim=1)\n",
    "\n",
    "            input_embeds = embed_model(input_texts.to(device))['last_hidden_state']\n",
    "            target_embeds = embed_model(target_with_bos.to(device))['last_hidden_state']\n",
    "\n",
    "            input_embeds = input_embeds.to(device)\n",
    "            target_embeds = target_embeds.to(device)\n",
    "            target_tokens = target_tokens.to(device)\n",
    "\n",
    "            # # Map target tokens to reduced vocab IDs\n",
    "            # target_tokens_np = target_tokens.cpu().numpy()\n",
    "            # target_reduced_np = np.vectorize(lambda x: old2new.get(x, 0))(target_tokens_np)\n",
    "            # target_reduced = torch.tensor(target_reduced_np, dtype=torch.long, device=target_tokens.device)\n",
    "\n",
    "            logits = model(input_embeds, target_embeds)\n",
    "\n",
    "            loss = criterion(\n",
    "                logits.view(-1, logits.shape[-1]),\n",
    "                target_tokens.reshape(-1)\n",
    "            )\n",
    "            total_val_loss += loss.item()\n",
    "\n",
    "            preds = torch.argmax(logits, dim=-1)\n",
    "            correct = (preds == target_tokens).float()\n",
    "            total_val_correct += correct.sum().item()\n",
    "            total_val_tokens += target_tokens.numel()\n",
    "\n",
    "    avg_val_loss = total_val_loss / len(val_loader)\n",
    "    val_accuracy = total_val_correct / total_val_tokens\n",
    "\n",
    "    train_losses.append(avg_train_loss)\n",
    "    val_losses.append(avg_val_loss)\n",
    "    train_accuracies.append(train_accuracy)\n",
    "    val_accuracies.append(val_accuracy)\n",
    "\n",
    "    # Save model checkpoint\n",
    "    torch.save(model.state_dict(), f\"../models/model_weight00.pth\")\n",
    "\n",
    "    # Save metrics to CSV\n",
    "    with open(monitor_csv, mode='a', newline='') as f:\n",
    "        writer = csv.writer(f)\n",
    "        writer.writerow([epoch + 1, avg_train_loss, avg_val_loss, train_accuracy, val_accuracy])\n",
    "\n",
    "    print(f\"Epoch {epoch + 1}, \"\n",
    "          f\"Train Loss: {avg_train_loss:.4f}, Val Loss: {avg_val_loss:.4f}, \"\n",
    "          f\"Train Acc: {train_accuracy:.4f}, Val Acc: {val_accuracy:.4f}\")\n"
   ]
  },
  {
   "cell_type": "code",
   "execution_count": 43,
   "id": "d50c2c47",
   "metadata": {},
   "outputs": [],
   "source": [
    "data = pd.read_csv('monitor.csv')\n",
    "train_losses = data['train_loss']\n",
    "val_losses = data['val_loss']\n",
    "train_acc = data['train_accuracy']\n",
    "val_acc = data['val_accuracy']"
   ]
  },
  {
   "cell_type": "code",
   "execution_count": 12,
   "id": "190a3908",
   "metadata": {},
   "outputs": [
    {
     "data": {
      "image/png": "[encoded data removed]",
      "text/plain": [
       "<Figure size 800x500 with 1 Axes>"
      ]
     },
     "metadata": {},
     "output_type": "display_data"
    }
   ],
   "source": [
    "plt.figure(figsize=(8, 5))\n",
    "plt.plot(list(range(1, epochs+1)), train_losses, label='Train Loss', marker='o', color='red')\n",
    "plt.plot(list(range(1, epochs+1)), val_losses, label='Validation Loss', marker='s', color='green')\n",
    "\n",
    "plt.title('Training and Validation Loss Over Epochs')\n",
    "plt.xlabel('Epoch')\n",
    "plt.ylabel('Loss')\n",
    "plt.legend()\n",
    "plt.grid(True)\n",
    "\n",
    "plt.tight_layout()\n",
    "plt.show()"
   ]
  },
  {
   "cell_type": "code",
   "execution_count": 13,
   "id": "f039635e",
   "metadata": {},
   "outputs": [
    {
     "data": {
      "image/png": "[encoded data removed]",
      "text/plain": [
       "<Figure size 800x500 with 1 Axes>"
      ]
     },
     "metadata": {},
     "output_type": "display_data"
    }
   ],
   "source": [
    "plt.figure(figsize=(8, 5))\n",
    "plt.plot(list(range(1, epochs+1)), train_accuracies, label='Train Accuracy', marker='o', color='blue')\n",
    "plt.plot(list(range(1, epochs+1)), val_accuracies, label='Validation Accuracy', marker='s', color='orange')\n",
    "\n",
    "plt.title('Training and Validation Accuracy Over Epochs')\n",
    "plt.xlabel('Epoch')\n",
    "plt.ylabel('Accuracy')\n",
    "plt.legend()\n",
    "plt.grid(True)\n",
    "\n",
    "plt.tight_layout()\n",
    "plt.show()"
   ]
  },
  {
   "cell_type": "markdown",
   "id": "1d0f816e",
   "metadata": {},
   "source": [
    "Inference"
   ]
  },
  {
   "cell_type": "code",
   "execution_count": 14,
   "id": "646d2f22",
   "metadata": {},
   "outputs": [],
   "source": [
    "input = \"I have a query on heavy periods since three weeks.\"\n",
    "input = preprocess_data(input)\n",
    "start_token = tokenizer(\n",
    "        '<|im_start|>',\n",
    "        max_length= maxlength,\n",
    "        return_tensors=\"pt\",\n",
    "    )['input_ids'][:,0].unsqueeze(0).to(device)\n",
    "input_tokens = tokenizer(\n",
    "        input,\n",
    "        max_length= maxlength,\n",
    "        return_tensors=\"pt\",\n",
    "    )['input_ids'][:, :-1].to(device)\n",
    "\n",
    "embed_model = embed_model.to(device)\n",
    "\n",
    "embed_query = embed_model(input_tokens)['last_hidden_state'].to(device)\n",
    "target = embed_model(start_token)['last_hidden_state'].to(device)\n"
   ]
  },
  {
   "cell_type": "code",
   "execution_count": 95,
   "id": "3bc5223b",
   "metadata": {},
   "outputs": [],
   "source": [
    "state_dict = torch.load(\"../new_models/model_weights_24.pth\")\n",
    "load_result = model.load_state_dict(state_dict)"
   ]
  },
  {
   "cell_type": "code",
   "execution_count": 96,
   "id": "5cea9d1b",
   "metadata": {},
   "outputs": [
    {
     "data": {
      "text/plain": [
       "<All keys matched successfully>"
      ]
     },
     "execution_count": 96,
     "metadata": {},
     "output_type": "execute_result"
    }
   ],
   "source": [
    "load_result"
   ]
  },
  {
   "cell_type": "code",
   "execution_count": null,
   "id": "a19a44ca",
   "metadata": {},
   "outputs": [
    {
     "name": "stdout",
     "output_type": "stream",
     "text": [
      "tensor([[151644]], device='cuda:0')\n",
      "torch.Size([1, 10709])\n",
      "torch.Size([1, 10709])\n"
     ]
    }
   ],
   "source": []
  },
  {
   "cell_type": "code",
   "execution_count": 37,
   "id": "83968fdb",
   "metadata": {},
   "outputs": [
    {
     "data": {
      "text/plain": [
       "[16, 16]"
      ]
     },
     "execution_count": 37,
     "metadata": {},
     "output_type": "execute_result"
    }
   ],
   "source": [
    "tokens"
   ]
  },
  {
   "cell_type": "code",
   "execution_count": 45,
   "id": "9a1af6c1",
   "metadata": {},
   "outputs": [],
   "source": [
    "tokens = torch.tensor(tokens)"
   ]
  },
  {
   "cell_type": "code",
   "execution_count": 38,
   "id": "12649b82",
   "metadata": {},
   "outputs": [
    {
     "data": {
      "text/plain": [
       "['1', '1']"
      ]
     },
     "execution_count": 38,
     "metadata": {},
     "output_type": "execute_result"
    }
   ],
   "source": [
    "tokenizer.convert_ids_to_tokens(tokens)"
   ]
  },
  {
   "cell_type": "code",
   "execution_count": null,
   "id": "42db4be8",
   "metadata": {},
   "outputs": [
    {
     "name": "stdout",
     "output_type": "stream",
     "text": [
      "Start Token: tensor([[151644]], device='cuda:0')\n",
      "Generated tokens: [6023, 16, 16, 16, 16, 16, 16, 16, 16, 16, 16, 16, 16, 16, 16, 16, 16, 16, 16, 16]\n",
      "Generated text: hi1111111111111111111  \n"
     ]
    }
   ],
   "source": [
    "model.eval()\n",
    "tokens = []\n",
    "\n",
    "with torch.no_grad():\n",
    "    # 1. Encode input query\n",
    "    enc_out, (h_enc, c_enc) = model.encoder(embed_query.to(device))\n",
    "    hidden = torch.cat([h_enc[0], h_enc[1]], dim=-1)  # (1, 2H)\n",
    "    cell = torch.cat([c_enc[0], c_enc[1]], dim=-1)    # (1, 2H)\n",
    "\n",
    "    # 2. Get embedding of <sos> token\n",
    "    input_emb = embed_model(start_token.to(device))['last_hidden_state'][:, 0, :]  # (1, E)\n",
    "\n",
    "    for i in range(20):  # Max decoding steps\n",
    "        # Decode one step\n",
    "        hidden, cell = model.decoder(input_emb, (hidden, cell))\n",
    "\n",
    "        # Attention over encoder outputs\n",
    "        vocab_logits = model.decoder_attention(hidden, enc_out)  \n",
    "        # Predict token from reduced vocab\n",
    "        pred_token = torch.argmax(vocab_logits, dim=1).item()\n",
    "\n",
    "        # Stop if <eos> predicted\n",
    "        if pred_token == tokenizer.eos_token_id:  \n",
    "            break\n",
    "\n",
    "        tokens.append(pred_token)\n",
    "\n",
    "        next_token_tensor = torch.tensor([[pred_token]]).to(device)\n",
    "        input_emb = embed_model(next_token_tensor)['last_hidden_state'][:, 0, :]\n",
    "\n",
    "output_text = tokenizer.decode(tokens, skip_special_tokens=True)\n",
    "print(\"Generated tokens:\", tokens)\n",
    "print(\"Generated text:\", output_text, \" \")\n"
   ]
  },
  {
   "cell_type": "code",
   "execution_count": null,
   "id": "705e3349",
   "metadata": {},
   "outputs": [],
   "source": []
  },
  {
   "cell_type": "code",
   "execution_count": null,
   "id": "710c6882",
   "metadata": {},
   "outputs": [],
   "source": []
  },
  {
   "cell_type": "code",
   "execution_count": null,
   "id": "dad367e3",
   "metadata": {},
   "outputs": [],
   "source": []
  }
 ],
 "metadata": {
  "kernelspec": {
   "display_name": "Python 3",
   "language": "python",
   "name": "python3"
  },
  "language_info": {
   "codemirror_mode": {
    "name": "ipython",
    "version": 3
   },
   "file_extension": ".py",
   "mimetype": "text/x-python",
   "name": "python",
   "nbconvert_exporter": "python",
   "pygments_lexer": "ipython3",
   "version": "3.10.0"
  }
 },
 "nbformat": 4,
 "nbformat_minor": 5
}
